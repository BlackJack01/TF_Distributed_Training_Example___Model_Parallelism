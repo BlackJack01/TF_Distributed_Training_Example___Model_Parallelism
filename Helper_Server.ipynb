{
 "cells": [
  {
   "cell_type": "code",
   "execution_count": 1,
   "metadata": {},
   "outputs": [],
   "source": [
    "import tensorflow as tf"
   ]
  },
  {
   "cell_type": "code",
   "execution_count": null,
   "metadata": {},
   "outputs": [],
   "source": [
    "# Define your list of IP address / port number combos\n",
    "IP_ADDRESS1='ex1.ex1.ex1.ex1'\n",
    "PORT1='2222'\n",
    "IP_ADDRESS2='ex2.ex2.ex2.ex2'\n",
    "PORT2='2224'\n",
    "\n",
    "# Define cluster\n",
    "cluster_spec = tf.train.ClusterSpec({'worker' : [(IP_ADDRESS1 + \":\" + PORT1), (IP_ADDRESS2 + \":\" + PORT2)]})\n",
    "\n",
    "# Task index (integer) should correspond to the IP address of the machine that you are running this notebook on...\n",
    "\n",
    "# For example, if you are running this notebook on (IP_ADDRESS2 + \":\" + PORT2), task_idx=1 because it is \n",
    "# responsible for the second task of the job:worker based on how you defined cluster_spec above\n",
    "\n",
    "# Define server for specific machine\n",
    "task_idx=1 #<--- This will be different for each non-chief machine you run this script on\n",
    "server = tf.train.Server(cluster_spec, job_name='worker', task_index=task_idx)\n",
    "\n",
    "# Server will run as long as the notebook is running\n",
    "server.join()\n",
    "\n",
    "\n",
    "\n"
   ]
  }
 ],
 "metadata": {
  "kernelspec": {
   "display_name": "Python 3",
   "language": "python",
   "name": "python3"
  },
  "language_info": {
   "codemirror_mode": {
    "name": "ipython",
    "version": 3
   },
   "file_extension": ".py",
   "mimetype": "text/x-python",
   "name": "python",
   "nbconvert_exporter": "python",
   "pygments_lexer": "ipython3",
   "version": "3.6.3"
  }
 },
 "nbformat": 4,
 "nbformat_minor": 2
}
