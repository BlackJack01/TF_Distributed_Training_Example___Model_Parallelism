{
 "cells": [
  {
   "cell_type": "code",
   "execution_count": null,
   "metadata": {},
   "outputs": [],
   "source": [
    "from  __future__  import division, print_function, absolute_import\n",
    "\n",
    "import tensorflow as tf\n",
    "\n",
    "# Get data\n",
    "from tensorflow.examples.tutorials.mnist import input_data\n",
    "mnist = input_data.read_data_sets(\"/tmp/data/\", one_hot=True)"
   ]
  },
  {
   "cell_type": "code",
   "execution_count": null,
   "metadata": {},
   "outputs": [],
   "source": [
    "tf.test.gpu_device_name()"
   ]
  },
  {
   "cell_type": "code",
   "execution_count": null,
   "metadata": {},
   "outputs": [],
   "source": [
    "# Some numbers\n",
    "batch_size = 128\n",
    "display_step = 10\n",
    "num_input = 784\n",
    "num_classes = 10"
   ]
  },
  {
   "cell_type": "code",
   "execution_count": null,
   "metadata": {},
   "outputs": [],
   "source": [
    "def conv_layer(inputs, channels_in, channels_out, strides=1):       \n",
    "        \n",
    "        # Create variables\n",
    "        w=tf.Variable(tf.random_normal([3, 3, channels_in, channels_out]))\n",
    "        b=tf.Variable(tf.random_normal([channels_out]))\n",
    "        \n",
    "        # We can double check the device that this variable was placed on\n",
    "        print(w.device) \n",
    "        print(b.device)\n",
    "        \n",
    "        # Define Ops\n",
    "        x = tf.nn.conv2d(inputs, w, strides=[1, strides, strides, 1], padding='SAME')\n",
    "        x = tf.nn.bias_add(x, b)\n",
    "        \n",
    "        # Non-linear activation\n",
    "        return tf.nn.relu(x)\n",
    "\n",
    "    \n",
    "def maxpool2d(x, k=2):\n",
    "    return tf.nn.max_pool(x, ksize=[1, k, k, 1], strides=[1, k, k, 1], padding='SAME')\n",
    "\n",
    "\n",
    "# Create model\n",
    "def CNN(x, devices):\n",
    "    \n",
    "    with tf.device(devices[0]): # <----------- Put first half of network on device 0\n",
    "\n",
    "        x = tf.reshape(x, shape=[-1, 28, 28, 1])\n",
    "\n",
    "        # Convolution Layer\n",
    "        conv1=conv_layer(x, 1, 32, strides=1)\n",
    "        pool1=maxpool2d(conv1)\n",
    "\n",
    "        # Convolution Layer\n",
    "        conv2=conv_layer(pool1, 32, 64, strides=1)\n",
    "        pool2=maxpool2d(conv2)\n",
    "\n",
    "    with tf.device(devices[1]):  # <----------- Put second half of network on device 1\n",
    "        # Fully connected layer\n",
    "        fc1 = tf.reshape(pool2, [-1, 7*7*64])\n",
    "        w1=tf.Variable(tf.random_normal([7*7*64, 1024]))\n",
    "        b1=tf.Variable(tf.random_normal([1024]))\n",
    "        fc1 = tf.add(tf.matmul(fc1,w1),b1)\n",
    "        fc1=tf.nn.relu(fc1)\n",
    "\n",
    "        # Output layer\n",
    "        w2=tf.Variable(tf.random_normal([1024, num_classes]))\n",
    "        b2=tf.Variable(tf.random_normal([num_classes]))\n",
    "        out = tf.add(tf.matmul(fc1,w2),b2)\n",
    "        \n",
    "        # Check devices for good measure\n",
    "        print(w1.device)\n",
    "        print(b1.device)\n",
    "        print(w2.device)\n",
    "        print(b2.device)\n",
    "\n",
    "    return out"
   ]
  },
  {
   "cell_type": "code",
   "execution_count": null,
   "metadata": {},
   "outputs": [],
   "source": [
    "# Define devices that we wish to split our graph over\n",
    "device0='/job:worker/task:0'\n",
    "device1='/job:worker/task:1'\n",
    "devices=(device0, device1)\n",
    "\n",
    "tf.reset_default_graph() # Reset graph\n",
    "\n",
    "# Construct model\n",
    "with tf.device(devices[0]):\n",
    "    X = tf.placeholder(tf.float32, [None, num_input]) # Input images feedable\n",
    "    Y = tf.placeholder(tf.float32, [None, num_classes]) # Ground truth feedable\n",
    "    \n",
    "logits = CNN(X, devices) # Unscaled probabilities\n",
    "\n",
    "with tf.device(devices[1]):\n",
    "    \n",
    "    prediction = tf.nn.softmax(logits) # Class-wise probabilities\n",
    "    \n",
    "    # Define loss and optimizer\n",
    "    loss_op = tf.reduce_mean(tf.nn.softmax_cross_entropy_with_logits(logits=logits, labels=Y))\n",
    "    optimizer = tf.train.AdamOptimizer(learning_rate=0.001)\n",
    "    train_op = optimizer.minimize(loss_op)\n",
    "\n",
    "    # Evaluate model\n",
    "    correct_pred = tf.equal(tf.argmax(prediction, 1), tf.argmax(Y, 1))\n",
    "    accuracy = tf.reduce_mean(tf.cast(correct_pred, tf.float32))\n",
    "\n",
    "    init = tf.global_variables_initializer()"
   ]
  },
  {
   "cell_type": "code",
   "execution_count": null,
   "metadata": {},
   "outputs": [],
   "source": [
    "# Set up cluster\n",
    "IP_ADDRESS1='ex1.ex1.ex1.ex1'\n",
    "PORT1='2222'\n",
    "IP_ADDRESS2='ex2.ex2.ex2.ex2'\n",
    "PORT2='2224'\n",
    "\n",
    "# This line should match the same cluster definition in the Helper_Server.ipynb\n",
    "cluster_spec = tf.train.ClusterSpec({'worker' : [(IP_ADDRESS1 + \":\" + PORT1), (IP_ADDRESS2 + \":\" + PORT2)]})\n",
    "\n",
    "task_idx=0 # We have chosen this machine to be our chief (The first IPaddress:Port combo), so task_idx=0\n",
    "server = tf.train.Server(cluster_spec, job_name='worker', task_index=task_idx)"
   ]
  },
  {
   "cell_type": "code",
   "execution_count": null,
   "metadata": {},
   "outputs": [],
   "source": [
    "# Check the server definition\n",
    "server.server_def"
   ]
  },
  {
   "cell_type": "code",
   "execution_count": null,
   "metadata": {},
   "outputs": [],
   "source": [
    "# Start training\n",
    "with tf.Session(server.target) as sess:  # <----- IMPORTANT: Pass the server target to the session definition\n",
    "\n",
    "    # Run the initializer\n",
    "    sess.run(init)\n",
    "\n",
    "    for step in range(100):\n",
    "        batch_x, batch_y = mnist.train.next_batch(batch_size)\n",
    "        \n",
    "        # Run optimization op (backprop)\n",
    "        sess.run(train_op, feed_dict={X: batch_x, Y: batch_y})\n",
    "        \n",
    "        if step % display_step == 0 or step == 1:\n",
    "            # Calculate batch loss and accuracy\n",
    "            loss, acc = sess.run([loss_op, accuracy], feed_dict={X: batch_x, Y : batch_y})\n",
    "            print(\"Step \" + str(step) + \", Minibatch Loss= \" + \"{:.4f}\".format(loss) + \", Training Accuracy= \" + \"{:.3f}\".format(acc))\n",
    "\n",
    "    # Get test set accuracy\n",
    "    print(\"Testing Accuracy:\",sess.run(accuracy, feed_dict={X: mnist.test.images[:256],Y: mnist.test.labels[:256]}))"
   ]
  }
 ],
 "metadata": {
  "kernelspec": {
   "display_name": "Python 3",
   "language": "python",
   "name": "python3"
  },
  "language_info": {
   "codemirror_mode": {
    "name": "ipython",
    "version": 3
   },
   "file_extension": ".py",
   "mimetype": "text/x-python",
   "name": "python",
   "nbconvert_exporter": "python",
   "pygments_lexer": "ipython3",
   "version": "3.6.3"
  }
 },
 "nbformat": 4,
 "nbformat_minor": 2
}
